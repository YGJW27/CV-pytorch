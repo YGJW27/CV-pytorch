{
 "cells": [
  {
   "cell_type": "markdown",
   "metadata": {},
   "source": [
    "分析fiber number网络邻接矩阵的组间差异"
   ]
  },
  {
   "cell_type": "markdown",
   "metadata": {},
   "source": [
    "首先读取所有的FN网络"
   ]
  },
  {
   "cell_type": "code",
   "execution_count": 2,
   "metadata": {},
   "outputs": [],
   "source": [
    "import os\n",
    "import glob\n",
    "import pandas as pd\n",
    "import networkx as nx\n",
    "import numpy as np\n",
    "import torch\n",
    "import scipy.stats\n",
    "\n",
    "DATA_PATH = \"D:/code/DTI_data/network_FN/\"\n",
    "\n",
    "def data_list(sample_path):\n",
    "    sub_dirs = [x[0] for x in os.walk(sample_path)]\n",
    "    sub_dirs.pop(0)\n",
    "\n",
    "    data_list = []\n",
    "\n",
    "    for sub_dir in sub_dirs:\n",
    "        file_list = []\n",
    "        dir_name = os.path.basename(sub_dir)\n",
    "        file_glob = os.path.join(sample_path, dir_name, '*')\n",
    "        file_list.extend(glob.glob(file_glob))\n",
    "\n",
    "        for file_name in file_list:\n",
    "            data_list.append([file_name, dir_name])\n",
    "\n",
    "    return np.array(data_list)\n",
    "\n",
    "\n",
    "class MRI_Dataset(torch.utils.data.Dataset):\n",
    "    def __init__(self, data_list):\n",
    "        self.data_list = data_list\n",
    "\n",
    "    def __getitem__(self, idx):\n",
    "        filepath, target = self.data_list[idx][0], int(self.data_list[idx][1])\n",
    "        dataframe = pd.read_csv(filepath, sep=\"\\s+\", header=None)\n",
    "        pic = dataframe.to_numpy()\n",
    "\n",
    "        return pic, target, idx\n",
    "\n",
    "    def __len__(self):\n",
    "        return len(self.data_list)\n",
    "\n",
    "    \n",
    "filelist = data_list(DATA_PATH)\n",
    "dataset = MRI_Dataset(filelist)\n",
    "dataloader = torch.utils.data.DataLoader(dataset, batch_size=1000, shuffle=False)\n",
    "\n",
    "for data, target, idx in dataloader:\n",
    "    x = data.numpy()\n",
    "    y = target.numpy()\n",
    "    idx = idx.numpy()\n",
    "    \n",
    "x = x.reshape(x.shape[0], -1)"
   ]
  },
  {
   "cell_type": "code",
   "execution_count": 22,
   "metadata": {},
   "outputs": [
    {
     "name": "stderr",
     "output_type": "stream",
     "text": [
      "c:\\users\\shear\\.conda\\envs\\torch1.2\\lib\\site-packages\\scipy\\stats\\_distn_infrastructure.py:901: RuntimeWarning: invalid value encountered in greater\n",
      "  return (a < x) & (x < b)\n",
      "c:\\users\\shear\\.conda\\envs\\torch1.2\\lib\\site-packages\\scipy\\stats\\_distn_infrastructure.py:901: RuntimeWarning: invalid value encountered in less\n",
      "  return (a < x) & (x < b)\n",
      "c:\\users\\shear\\.conda\\envs\\torch1.2\\lib\\site-packages\\scipy\\stats\\_distn_infrastructure.py:1892: RuntimeWarning: invalid value encountered in less_equal\n",
      "  cond2 = cond0 & (x <= _a)\n",
      "c:\\users\\shear\\.conda\\envs\\torch1.2\\lib\\site-packages\\ipykernel_launcher.py:19: RuntimeWarning: invalid value encountered in less_equal\n",
      "c:\\users\\shear\\.conda\\envs\\torch1.2\\lib\\site-packages\\ipykernel_launcher.py:20: RuntimeWarning: invalid value encountered in less_equal\n"
     ]
    },
    {
     "name": "stdout",
     "output_type": "stream",
     "text": [
      "(98, 56) (98,)\n",
      "[  0.   0.   5.   0.   5.   0.   0.   0.  13.   0.   0.   1.  31.  13.\n",
      "  31.  15.  15.   3.   5.   2.   0.  20. 110.  12.   0. 110.   0.   3.\n",
      " 107.   7.  20.   3.  12.   0.   4.   0.   0.   0.   0.   3.   7.   0.\n",
      "   0.   0.   2.   4.   0.   4.   1.   5.   0.   0.   4.   4.   4. 107.]\n",
      "[0.         0.         0.5        0.         0.5        0.\n",
      " 0.         0.         0.08552632 0.         0.         0.03571429\n",
      " 0.24031008 0.08552632 0.24031008 0.16666667 0.16666667 0.125\n",
      " 0.13513514 0.4        0.         0.37037037 0.56410256 0.34285714\n",
      " 0.         0.56410256 0.         0.125      0.92241379 0.22580645\n",
      " 0.37037037 0.10344828 0.34285714 0.         0.04878049 0.\n",
      " 0.         0.         0.         0.10344828 0.22580645 0.\n",
      " 0.         0.         0.4        0.17391304 0.         0.36363636\n",
      " 0.03571429 0.13513514 0.         0.         0.04878049 0.17391304\n",
      " 0.36363636 0.92241379]\n",
      "cv: 0/20, acc.: 40.0\n",
      "\n"
     ]
    },
    {
     "name": "stderr",
     "output_type": "stream",
     "text": [
      "c:\\users\\shear\\.conda\\envs\\torch1.2\\lib\\site-packages\\scipy\\stats\\_distn_infrastructure.py:901: RuntimeWarning: invalid value encountered in greater\n",
      "  return (a < x) & (x < b)\n",
      "c:\\users\\shear\\.conda\\envs\\torch1.2\\lib\\site-packages\\scipy\\stats\\_distn_infrastructure.py:901: RuntimeWarning: invalid value encountered in less\n",
      "  return (a < x) & (x < b)\n",
      "c:\\users\\shear\\.conda\\envs\\torch1.2\\lib\\site-packages\\scipy\\stats\\_distn_infrastructure.py:1892: RuntimeWarning: invalid value encountered in less_equal\n",
      "  cond2 = cond0 & (x <= _a)\n",
      "c:\\users\\shear\\.conda\\envs\\torch1.2\\lib\\site-packages\\ipykernel_launcher.py:19: RuntimeWarning: invalid value encountered in less_equal\n",
      "c:\\users\\shear\\.conda\\envs\\torch1.2\\lib\\site-packages\\ipykernel_launcher.py:20: RuntimeWarning: invalid value encountered in less_equal\n"
     ]
    },
    {
     "name": "stdout",
     "output_type": "stream",
     "text": [
      "(98, 56) (98,)\n",
      "[  0.   0.   5.   1.   0.   5.   0.   0.   0.  13.   0.   1.   0.   1.\n",
      "  31.  13.  31.   9.   3.   2.   0.  20. 110.  12.   0.   9. 110.   0.\n",
      "   3. 107.   7.  20.   3.  12.   0.   4.   0.   0.   0.   3.   0.   7.\n",
      "   0.   0.   0.   0.   0.   2.   0.   2.   1.   0.   2.   0.   4. 107.]\n",
      "[0.         0.         0.5        0.04761905 0.         0.5\n",
      " 0.         0.         0.         0.08552632 0.         0.04761905\n",
      " 0.         0.03571429 0.24031008 0.08552632 0.24031008 0.64285714\n",
      " 0.125      0.4        0.         0.37037037 0.56410256 0.34285714\n",
      " 0.         0.64285714 0.56410256 0.         0.125      0.92241379\n",
      " 0.22580645 0.37037037 0.10344828 0.34285714 0.         0.04878049\n",
      " 0.         0.         0.         0.10344828 0.         0.22580645\n",
      " 0.         0.         0.         0.         0.         0.4\n",
      " 0.         0.09090909 0.03571429 0.         0.09090909 0.\n",
      " 0.04878049 0.92241379]\n",
      "cv: 1/20, acc.: 100.0\n",
      "\n"
     ]
    },
    {
     "name": "stderr",
     "output_type": "stream",
     "text": [
      "c:\\users\\shear\\.conda\\envs\\torch1.2\\lib\\site-packages\\scipy\\stats\\_distn_infrastructure.py:901: RuntimeWarning: invalid value encountered in greater\n",
      "  return (a < x) & (x < b)\n",
      "c:\\users\\shear\\.conda\\envs\\torch1.2\\lib\\site-packages\\scipy\\stats\\_distn_infrastructure.py:901: RuntimeWarning: invalid value encountered in less\n",
      "  return (a < x) & (x < b)\n",
      "c:\\users\\shear\\.conda\\envs\\torch1.2\\lib\\site-packages\\scipy\\stats\\_distn_infrastructure.py:1892: RuntimeWarning: invalid value encountered in less_equal\n",
      "  cond2 = cond0 & (x <= _a)\n",
      "c:\\users\\shear\\.conda\\envs\\torch1.2\\lib\\site-packages\\ipykernel_launcher.py:19: RuntimeWarning: invalid value encountered in less_equal\n",
      "c:\\users\\shear\\.conda\\envs\\torch1.2\\lib\\site-packages\\ipykernel_launcher.py:20: RuntimeWarning: invalid value encountered in less_equal\n"
     ]
    },
    {
     "name": "stdout",
     "output_type": "stream",
     "text": [
      "(98, 48) (98,)\n",
      "[ 50.   0.   5.  33.   0.   0.   5.  33.  50.   0.   0.   0.  13.   0.\n",
      "  31.  13.  31.   9.   3.   2.   0. 110.  12.   0.   9. 110.   0.   3.\n",
      "   7.   3.  12.  32.   0.  32.   4.   0.   0.   3.   7.   0.   0.   0.\n",
      "   0.   2.   0.   6.   4.   6.]\n",
      "[0.57471264 0.         0.5        0.57894737 0.         0.\n",
      " 0.5        0.57894737 0.57471264 0.         0.         0.\n",
      " 0.08552632 0.         0.24031008 0.08552632 0.24031008 0.64285714\n",
      " 0.125      0.4        0.         0.56410256 0.34285714 0.\n",
      " 0.64285714 0.56410256 0.         0.125      0.22580645 0.10344828\n",
      " 0.34285714 0.25       0.         0.25       0.04878049 0.\n",
      " 0.         0.10344828 0.22580645 0.         0.         0.\n",
      " 0.         0.4        0.         0.12       0.04878049 0.12      ]\n",
      "cv: 2/20, acc.: 80.0\n",
      "\n"
     ]
    },
    {
     "name": "stderr",
     "output_type": "stream",
     "text": [
      "c:\\users\\shear\\.conda\\envs\\torch1.2\\lib\\site-packages\\scipy\\stats\\_distn_infrastructure.py:901: RuntimeWarning: invalid value encountered in greater\n",
      "  return (a < x) & (x < b)\n",
      "c:\\users\\shear\\.conda\\envs\\torch1.2\\lib\\site-packages\\scipy\\stats\\_distn_infrastructure.py:901: RuntimeWarning: invalid value encountered in less\n",
      "  return (a < x) & (x < b)\n",
      "c:\\users\\shear\\.conda\\envs\\torch1.2\\lib\\site-packages\\scipy\\stats\\_distn_infrastructure.py:1892: RuntimeWarning: invalid value encountered in less_equal\n",
      "  cond2 = cond0 & (x <= _a)\n",
      "c:\\users\\shear\\.conda\\envs\\torch1.2\\lib\\site-packages\\ipykernel_launcher.py:19: RuntimeWarning: invalid value encountered in less_equal\n",
      "c:\\users\\shear\\.conda\\envs\\torch1.2\\lib\\site-packages\\ipykernel_launcher.py:20: RuntimeWarning: invalid value encountered in less_equal\n"
     ]
    },
    {
     "name": "stdout",
     "output_type": "stream",
     "text": [
      "(98, 40) (98,)\n",
      "[  0.   5.   0.   5.   0.  13.   0.   1.  31.  13.  31.  15.   3.   2.\n",
      "  20. 110.  12.   0. 110.   3.   7.  20.   3.  12.   0.   0.   4.   0.\n",
      "   3.   0.  15.   7.   0.   0.   2.   0.   1.   0.   0.   4.]\n",
      "[0.         0.5        0.         0.5        0.         0.08552632\n",
      " 0.         0.03571429 0.24031008 0.08552632 0.24031008 0.17647059\n",
      " 0.13043478 0.4        0.37037037 0.56410256 0.34285714 0.\n",
      " 0.56410256 0.13043478 0.25       0.37037037 0.10344828 0.34285714\n",
      " 0.         0.         0.04878049 0.         0.10344828 0.\n",
      " 0.17647059 0.25       0.         0.         0.4        0.\n",
      " 0.03571429 0.         0.         0.04878049]\n",
      "cv: 3/20, acc.: 60.0\n",
      "\n"
     ]
    },
    {
     "name": "stderr",
     "output_type": "stream",
     "text": [
      "c:\\users\\shear\\.conda\\envs\\torch1.2\\lib\\site-packages\\scipy\\stats\\_distn_infrastructure.py:901: RuntimeWarning: invalid value encountered in greater\n",
      "  return (a < x) & (x < b)\n",
      "c:\\users\\shear\\.conda\\envs\\torch1.2\\lib\\site-packages\\scipy\\stats\\_distn_infrastructure.py:901: RuntimeWarning: invalid value encountered in less\n",
      "  return (a < x) & (x < b)\n",
      "c:\\users\\shear\\.conda\\envs\\torch1.2\\lib\\site-packages\\scipy\\stats\\_distn_infrastructure.py:1892: RuntimeWarning: invalid value encountered in less_equal\n",
      "  cond2 = cond0 & (x <= _a)\n",
      "c:\\users\\shear\\.conda\\envs\\torch1.2\\lib\\site-packages\\ipykernel_launcher.py:19: RuntimeWarning: invalid value encountered in less_equal\n",
      "c:\\users\\shear\\.conda\\envs\\torch1.2\\lib\\site-packages\\ipykernel_launcher.py:20: RuntimeWarning: invalid value encountered in less_equal\n"
     ]
    },
    {
     "name": "stdout",
     "output_type": "stream",
     "text": [
      "(98, 56) (98,)\n",
      "[  0.   0.   0.   0.   5.   0.   5.   0.   0.   0.  13.   0.   1.  31.\n",
      "  13.  31.   9.   3.  32.   2.   2.   0.   0.  20. 110.  12.   0.   9.\n",
      "   0. 110.   3. 107.   7.  20.   3.  12.   4.  32.   0.   0.   3.   7.\n",
      "   0.   0.   2.   4.   0.   0.   1.   6.   0.   4.   4.   6. 107.   2.]\n",
      "[0.         0.         0.         0.         0.5        0.\n",
      " 0.5        0.         0.         0.         0.08552632 0.\n",
      " 0.03571429 0.24031008 0.08552632 0.24031008 0.64285714 0.125\n",
      " 0.40506329 0.07142857 0.4        0.         0.         0.37037037\n",
      " 0.56410256 0.34285714 0.         0.64285714 0.         0.56410256\n",
      " 0.125      0.92241379 0.22580645 0.37037037 0.10344828 0.34285714\n",
      " 0.04878049 0.40506329 0.         0.         0.10344828 0.22580645\n",
      " 0.         0.         0.4        0.17391304 0.         0.\n",
      " 0.03571429 0.10169492 0.         0.04878049 0.17391304 0.10169492\n",
      " 0.92241379 0.07142857]\n",
      "cv: 4/20, acc.: 60.0\n",
      "\n"
     ]
    },
    {
     "name": "stderr",
     "output_type": "stream",
     "text": [
      "c:\\users\\shear\\.conda\\envs\\torch1.2\\lib\\site-packages\\scipy\\stats\\_distn_infrastructure.py:901: RuntimeWarning: invalid value encountered in greater\n",
      "  return (a < x) & (x < b)\n",
      "c:\\users\\shear\\.conda\\envs\\torch1.2\\lib\\site-packages\\scipy\\stats\\_distn_infrastructure.py:901: RuntimeWarning: invalid value encountered in less\n",
      "  return (a < x) & (x < b)\n",
      "c:\\users\\shear\\.conda\\envs\\torch1.2\\lib\\site-packages\\scipy\\stats\\_distn_infrastructure.py:1892: RuntimeWarning: invalid value encountered in less_equal\n",
      "  cond2 = cond0 & (x <= _a)\n",
      "c:\\users\\shear\\.conda\\envs\\torch1.2\\lib\\site-packages\\ipykernel_launcher.py:19: RuntimeWarning: invalid value encountered in less_equal\n",
      "c:\\users\\shear\\.conda\\envs\\torch1.2\\lib\\site-packages\\ipykernel_launcher.py:20: RuntimeWarning: invalid value encountered in less_equal\n"
     ]
    },
    {
     "name": "stdout",
     "output_type": "stream",
     "text": [
      "(98, 56) (98,)\n",
      "[ 50.   5.   0.   5.  50.   1.   0.   0.   0.   0.  13.   0.   0.   0.\n",
      "   0.   0.   1.  31.  13.  31.  15.   3.   2.   1.   0.   0.  20. 110.\n",
      "  12.   0.   0. 110.   0.   3.   7.  20.   3.  12.   0.   0.   0.   3.\n",
      "   0.  15.   7.   0.   0.   0.   0.   0.   0.   0.   0.   2.   1.   0.]\n",
      "[0.57471264 0.5        0.         0.5        0.57471264 0.03571429\n",
      " 0.         0.         0.         0.         0.08552632 0.\n",
      " 0.         0.         0.         0.         0.05       0.24031008\n",
      " 0.08552632 0.24031008 0.17647059 0.125      0.5        0.03571429\n",
      " 0.         0.         0.37037037 0.56410256 0.34285714 0.\n",
      " 0.         0.56410256 0.         0.125      0.22580645 0.37037037\n",
      " 0.10344828 0.34285714 0.         0.         0.         0.10344828\n",
      " 0.         0.17647059 0.22580645 0.         0.         0.\n",
      " 0.         0.         0.         0.         0.         0.5\n",
      " 0.05       0.        ]\n",
      "cv: 5/20, acc.: 60.0\n",
      "\n"
     ]
    },
    {
     "name": "stderr",
     "output_type": "stream",
     "text": [
      "c:\\users\\shear\\.conda\\envs\\torch1.2\\lib\\site-packages\\scipy\\stats\\_distn_infrastructure.py:901: RuntimeWarning: invalid value encountered in greater\n",
      "  return (a < x) & (x < b)\n",
      "c:\\users\\shear\\.conda\\envs\\torch1.2\\lib\\site-packages\\scipy\\stats\\_distn_infrastructure.py:901: RuntimeWarning: invalid value encountered in less\n",
      "  return (a < x) & (x < b)\n",
      "c:\\users\\shear\\.conda\\envs\\torch1.2\\lib\\site-packages\\scipy\\stats\\_distn_infrastructure.py:1892: RuntimeWarning: invalid value encountered in less_equal\n",
      "  cond2 = cond0 & (x <= _a)\n",
      "c:\\users\\shear\\.conda\\envs\\torch1.2\\lib\\site-packages\\ipykernel_launcher.py:19: RuntimeWarning: invalid value encountered in less_equal\n",
      "c:\\users\\shear\\.conda\\envs\\torch1.2\\lib\\site-packages\\ipykernel_launcher.py:20: RuntimeWarning: invalid value encountered in less_equal\n"
     ]
    },
    {
     "name": "stdout",
     "output_type": "stream",
     "text": [
      "(98, 62) (98,)\n",
      "[ 50.   0.   0.   0.   0.   5.   0.   5.  50.   0.   0.   0.  13.   0.\n",
      "   0.   1.  31.  13.  31.   9.   3.  32.   2.   0.   0.  20. 110.  12.\n",
      "   0.   9.   0. 110.   0.   0.   3.   7.  20.  12.   0.  32.   0.  32.\n",
      "   4.  32.   0.   0.   0.   0.   0.   7.   0.   0.   0.   2.   4.   0.\n",
      "   1.   0.   0.   0.   4.   4.]\n",
      "[0.57471264 0.         0.         0.         0.         0.5\n",
      " 0.         0.5        0.57471264 0.         0.         0.\n",
      " 0.08552632 0.         0.         0.03571429 0.24031008 0.08552632\n",
      " 0.24031008 0.64285714 0.125      0.40506329 0.4        0.\n",
      " 0.         0.37037037 0.56410256 0.34285714 0.         0.64285714\n",
      " 0.         0.56410256 0.         0.         0.125      0.22580645\n",
      " 0.37037037 0.34285714 0.         0.25       0.         0.25\n",
      " 0.04878049 0.40506329 0.         0.         0.         0.\n",
      " 0.         0.22580645 0.         0.         0.         0.4\n",
      " 0.17391304 0.         0.03571429 0.         0.         0.\n",
      " 0.04878049 0.17391304]\n",
      "cv: 6/20, acc.: 60.0\n",
      "\n"
     ]
    },
    {
     "name": "stderr",
     "output_type": "stream",
     "text": [
      "c:\\users\\shear\\.conda\\envs\\torch1.2\\lib\\site-packages\\scipy\\stats\\_distn_infrastructure.py:901: RuntimeWarning: invalid value encountered in greater\n",
      "  return (a < x) & (x < b)\n",
      "c:\\users\\shear\\.conda\\envs\\torch1.2\\lib\\site-packages\\scipy\\stats\\_distn_infrastructure.py:901: RuntimeWarning: invalid value encountered in less\n",
      "  return (a < x) & (x < b)\n",
      "c:\\users\\shear\\.conda\\envs\\torch1.2\\lib\\site-packages\\scipy\\stats\\_distn_infrastructure.py:1892: RuntimeWarning: invalid value encountered in less_equal\n",
      "  cond2 = cond0 & (x <= _a)\n",
      "c:\\users\\shear\\.conda\\envs\\torch1.2\\lib\\site-packages\\ipykernel_launcher.py:19: RuntimeWarning: invalid value encountered in less_equal\n",
      "c:\\users\\shear\\.conda\\envs\\torch1.2\\lib\\site-packages\\ipykernel_launcher.py:20: RuntimeWarning: invalid value encountered in less_equal\n"
     ]
    },
    {
     "name": "stdout",
     "output_type": "stream",
     "text": [
      "(98, 58) (98,)\n",
      "[ 50.   5.   0.   5.   0.   5.  50.   0.   0.   0.   0.   0.   5.   4.\n",
      "  13.   0.   0.   0.   0.   1.  31.  13.  31.   9.   3.   4.   2.   0.\n",
      "  20. 110.  12.   0.   9. 110.   0.   3.   7.  20.   3.  12.   4.   0.\n",
      "   0.   0.   3.   0.   7.   0.   0.   0.   0.   0.   2.   0.   0.   1.\n",
      "   0.   4.]\n",
      "[0.57471264 0.06493506 0.         0.5        0.         0.5\n",
      " 0.57471264 0.         0.         0.         0.         0.\n",
      " 0.06493506 0.30769231 0.08552632 0.         0.         0.\n",
      " 0.         0.03571429 0.24031008 0.08552632 0.24031008 0.64285714\n",
      " 0.125      0.30769231 0.4        0.         0.37037037 0.56410256\n",
      " 0.34285714 0.         0.64285714 0.56410256 0.         0.125\n",
      " 0.22580645 0.37037037 0.10344828 0.34285714 0.04878049 0.\n",
      " 0.         0.         0.10344828 0.         0.22580645 0.\n",
      " 0.         0.         0.         0.         0.4        0.\n",
      " 0.         0.03571429 0.         0.04878049]\n",
      "cv: 7/20, acc.: 40.0\n",
      "\n"
     ]
    },
    {
     "name": "stderr",
     "output_type": "stream",
     "text": [
      "c:\\users\\shear\\.conda\\envs\\torch1.2\\lib\\site-packages\\scipy\\stats\\_distn_infrastructure.py:901: RuntimeWarning: invalid value encountered in greater\n",
      "  return (a < x) & (x < b)\n",
      "c:\\users\\shear\\.conda\\envs\\torch1.2\\lib\\site-packages\\scipy\\stats\\_distn_infrastructure.py:901: RuntimeWarning: invalid value encountered in less\n",
      "  return (a < x) & (x < b)\n",
      "c:\\users\\shear\\.conda\\envs\\torch1.2\\lib\\site-packages\\scipy\\stats\\_distn_infrastructure.py:1892: RuntimeWarning: invalid value encountered in less_equal\n",
      "  cond2 = cond0 & (x <= _a)\n",
      "c:\\users\\shear\\.conda\\envs\\torch1.2\\lib\\site-packages\\ipykernel_launcher.py:19: RuntimeWarning: invalid value encountered in less_equal\n",
      "c:\\users\\shear\\.conda\\envs\\torch1.2\\lib\\site-packages\\ipykernel_launcher.py:20: RuntimeWarning: invalid value encountered in less_equal\n"
     ]
    },
    {
     "name": "stdout",
     "output_type": "stream",
     "text": [
      "(98, 68) (98,)\n",
      "[ 50.   0.   0.   5.   0.   0.   0.   5.   0.  50.   0.   0.   0.   1.\n",
      "  13.   0.   0.   1.  31.  13.  31.   3.  11.   1.   2.   0.   0.  20.\n",
      " 110.  12.   0.   0. 110.   0.   3. 107.   7.  20.  12.  32.   0.  32.\n",
      "   0.   4.   0.   0.   1.   0.   0.   7.   0.   0.   0.   2.   1.   0.\n",
      "   0.   2.   1.   0.   2.   0.  11.  11.   4.  11.   0. 107.]\n",
      "[0.57471264 0.         0.         0.5        0.         0.\n",
      " 0.         0.5        0.         0.57471264 0.         0.\n",
      " 0.         0.0625     0.08552632 0.         0.         0.03571429\n",
      " 0.24031008 0.08552632 0.24031008 0.125      0.35483871 0.0625\n",
      " 0.4        0.         0.         0.37037037 0.56410256 0.5\n",
      " 0.         0.         0.56410256 0.         0.125      0.92241379\n",
      " 0.22580645 0.37037037 0.5        0.25       0.         0.25\n",
      " 0.         0.06779661 0.         0.         0.02083333 0.\n",
      " 0.         0.22580645 0.         0.         0.         0.4\n",
      " 0.02083333 0.         0.         0.0952381  0.03571429 0.\n",
      " 0.0952381  0.         0.23404255 0.35483871 0.06779661 0.23404255\n",
      " 0.         0.92241379]\n",
      "cv: 8/20, acc.: 40.0\n",
      "\n"
     ]
    },
    {
     "name": "stderr",
     "output_type": "stream",
     "text": [
      "c:\\users\\shear\\.conda\\envs\\torch1.2\\lib\\site-packages\\scipy\\stats\\_distn_infrastructure.py:901: RuntimeWarning: invalid value encountered in greater\n",
      "  return (a < x) & (x < b)\n",
      "c:\\users\\shear\\.conda\\envs\\torch1.2\\lib\\site-packages\\scipy\\stats\\_distn_infrastructure.py:901: RuntimeWarning: invalid value encountered in less\n",
      "  return (a < x) & (x < b)\n",
      "c:\\users\\shear\\.conda\\envs\\torch1.2\\lib\\site-packages\\scipy\\stats\\_distn_infrastructure.py:1892: RuntimeWarning: invalid value encountered in less_equal\n",
      "  cond2 = cond0 & (x <= _a)\n",
      "c:\\users\\shear\\.conda\\envs\\torch1.2\\lib\\site-packages\\ipykernel_launcher.py:19: RuntimeWarning: invalid value encountered in less_equal\n",
      "c:\\users\\shear\\.conda\\envs\\torch1.2\\lib\\site-packages\\ipykernel_launcher.py:20: RuntimeWarning: invalid value encountered in less_equal\n"
     ]
    },
    {
     "name": "stdout",
     "output_type": "stream",
     "text": [
      "(98, 52) (98,)\n",
      "[  0.   5.   0.   5.   0.   0.   0.   0.  13.   0.   0.  31.  13.  31.\n",
      "   9.   3.   0.   2.   0.  20. 110.  12.   0.   9. 110.   0.   3.   7.\n",
      "   0.  20.   3.  12.   4.   3.  95.   0.   0.   3.   0.   3.   0.   7.\n",
      "   0.   0.   0.   2.  95.   4.   0.   0.   4.   4.]\n",
      "[0.         0.5        0.         0.5        0.         0.\n",
      " 0.         0.         0.12037037 0.         0.         0.24031008\n",
      " 0.12037037 0.24031008 0.64285714 0.125      0.         0.4\n",
      " 0.         0.37037037 0.56410256 0.34285714 0.         0.64285714\n",
      " 0.56410256 0.         0.125      0.22580645 0.         0.37037037\n",
      " 0.10344828 0.34285714 0.04878049 0.02307692 0.69852941 0.\n",
      " 0.         0.02307692 0.         0.10344828 0.         0.22580645\n",
      " 0.         0.         0.         0.4        0.69852941 0.36363636\n",
      " 0.         0.         0.04878049 0.36363636]\n",
      "cv: 9/20, acc.: 80.0\n",
      "\n"
     ]
    },
    {
     "name": "stderr",
     "output_type": "stream",
     "text": [
      "c:\\users\\shear\\.conda\\envs\\torch1.2\\lib\\site-packages\\scipy\\stats\\_distn_infrastructure.py:901: RuntimeWarning: invalid value encountered in greater\n",
      "  return (a < x) & (x < b)\n",
      "c:\\users\\shear\\.conda\\envs\\torch1.2\\lib\\site-packages\\scipy\\stats\\_distn_infrastructure.py:901: RuntimeWarning: invalid value encountered in less\n",
      "  return (a < x) & (x < b)\n",
      "c:\\users\\shear\\.conda\\envs\\torch1.2\\lib\\site-packages\\scipy\\stats\\_distn_infrastructure.py:1892: RuntimeWarning: invalid value encountered in less_equal\n",
      "  cond2 = cond0 & (x <= _a)\n",
      "c:\\users\\shear\\.conda\\envs\\torch1.2\\lib\\site-packages\\ipykernel_launcher.py:19: RuntimeWarning: invalid value encountered in less_equal\n",
      "c:\\users\\shear\\.conda\\envs\\torch1.2\\lib\\site-packages\\ipykernel_launcher.py:20: RuntimeWarning: invalid value encountered in less_equal\n"
     ]
    },
    {
     "name": "stdout",
     "output_type": "stream",
     "text": [
      "(98, 54) (98,)\n",
      "[ 50.   0.   5.   5.  50.   0.   0.   0.   0.  13.   0.   1.  31.  13.\n",
      "  31.   3.  24.  24.   2.   0.   0.  20. 110.  12.   0.   0. 110.   0.\n",
      "   0.   3.   0.   7.  20.   3.  12.   0.   0.   4.  95.   0.   0.   0.\n",
      "   3.   7.   0.   0.   0.   0.   2.  95.   0.   1.   0.   4.]\n",
      "[0.57471264 0.         0.5        0.5        0.57471264 0.\n",
      " 0.         0.         0.         0.08552632 0.         0.03571429\n",
      " 0.30392157 0.08552632 0.30392157 0.125      0.46153846 0.46153846\n",
      " 0.4        0.         0.         0.37037037 0.56410256 0.34285714\n",
      " 0.         0.         0.56410256 0.         0.         0.125\n",
      " 0.         0.22580645 0.37037037 0.10344828 0.34285714 0.\n",
      " 0.         0.04878049 0.69852941 0.         0.         0.\n",
      " 0.10344828 0.22580645 0.         0.         0.         0.\n",
      " 0.4        0.69852941 0.         0.03571429 0.         0.04878049]\n",
      "cv: 10/20, acc.: 40.0\n",
      "\n"
     ]
    },
    {
     "name": "stderr",
     "output_type": "stream",
     "text": [
      "c:\\users\\shear\\.conda\\envs\\torch1.2\\lib\\site-packages\\scipy\\stats\\_distn_infrastructure.py:901: RuntimeWarning: invalid value encountered in greater\n",
      "  return (a < x) & (x < b)\n",
      "c:\\users\\shear\\.conda\\envs\\torch1.2\\lib\\site-packages\\scipy\\stats\\_distn_infrastructure.py:901: RuntimeWarning: invalid value encountered in less\n",
      "  return (a < x) & (x < b)\n",
      "c:\\users\\shear\\.conda\\envs\\torch1.2\\lib\\site-packages\\scipy\\stats\\_distn_infrastructure.py:1892: RuntimeWarning: invalid value encountered in less_equal\n",
      "  cond2 = cond0 & (x <= _a)\n",
      "c:\\users\\shear\\.conda\\envs\\torch1.2\\lib\\site-packages\\ipykernel_launcher.py:19: RuntimeWarning: invalid value encountered in less_equal\n",
      "c:\\users\\shear\\.conda\\envs\\torch1.2\\lib\\site-packages\\ipykernel_launcher.py:20: RuntimeWarning: invalid value encountered in less_equal\n"
     ]
    },
    {
     "name": "stdout",
     "output_type": "stream",
     "text": [
      "(98, 62) (98,)\n",
      "[ 50.   0.   0.   5.   0.   5.  50.   0.   0.   0.  12.  13.   0.   0.\n",
      "   1.  31.  13.  31.  15.   3.  32.   2.   0.   0.  20. 110.  68.  12.\n",
      "   0.   0. 110.   0.   3. 107.  68.   7.  20.   3.  12.   0.   0.   4.\n",
      "  32.  12.   0.   0.   0.   3.   0.  15.   7.   0.   0.   0.   2.   0.\n",
      "   1.   0.   0.   0.   4. 107.]\n",
      "[0.57471264 0.         0.         0.5        0.         0.5\n",
      " 0.57471264 0.         0.         0.         0.21428571 0.08552632\n",
      " 0.         0.         0.03571429 0.24031008 0.08552632 0.24031008\n",
      " 0.17647059 0.125      0.40506329 0.4        0.         0.\n",
      " 0.37037037 0.56410256 0.5862069  0.34285714 0.         0.\n",
      " 0.56410256 0.         0.125      0.92241379 0.5862069  0.22580645\n",
      " 0.37037037 0.10344828 0.34285714 0.         0.         0.04878049\n",
      " 0.40506329 0.21428571 0.         0.         0.         0.10344828\n",
      " 0.         0.17647059 0.22580645 0.         0.         0.\n",
      " 0.4        0.         0.03571429 0.         0.         0.\n",
      " 0.04878049 0.92241379]\n",
      "cv: 11/20, acc.: 60.0\n",
      "\n"
     ]
    },
    {
     "name": "stderr",
     "output_type": "stream",
     "text": [
      "c:\\users\\shear\\.conda\\envs\\torch1.2\\lib\\site-packages\\scipy\\stats\\_distn_infrastructure.py:901: RuntimeWarning: invalid value encountered in greater\n",
      "  return (a < x) & (x < b)\n",
      "c:\\users\\shear\\.conda\\envs\\torch1.2\\lib\\site-packages\\scipy\\stats\\_distn_infrastructure.py:901: RuntimeWarning: invalid value encountered in less\n",
      "  return (a < x) & (x < b)\n",
      "c:\\users\\shear\\.conda\\envs\\torch1.2\\lib\\site-packages\\scipy\\stats\\_distn_infrastructure.py:1892: RuntimeWarning: invalid value encountered in less_equal\n",
      "  cond2 = cond0 & (x <= _a)\n",
      "c:\\users\\shear\\.conda\\envs\\torch1.2\\lib\\site-packages\\ipykernel_launcher.py:19: RuntimeWarning: invalid value encountered in less_equal\n",
      "c:\\users\\shear\\.conda\\envs\\torch1.2\\lib\\site-packages\\ipykernel_launcher.py:20: RuntimeWarning: invalid value encountered in less_equal\n"
     ]
    },
    {
     "name": "stdout",
     "output_type": "stream",
     "text": [
      "(98, 56) (98,)\n",
      "[ 50.   0.   0.   5.  33.   0.   5.  33.  50.   0.   0.   6.  13.   0.\n",
      "   1.  31.  13.  31.   9.   3.  32.   2.   0.  20. 110.  12.   0.   9.\n",
      " 110.   0.   3.   7.  20.   3.  12.   0.   4.  32.   0.   0.   3.   0.\n",
      "   7.   0.   0.   0.   6.   0.   2.   0.   1.   0.  11.   0.   4.  11.]\n",
      "[0.57471264 0.         0.         0.5        0.57894737 0.\n",
      " 0.5        0.57894737 0.57471264 0.         0.         0.19354839\n",
      " 0.08552632 0.         0.03571429 0.24031008 0.08552632 0.24031008\n",
      " 0.64285714 0.125      0.40506329 0.4        0.         0.40816327\n",
      " 0.56410256 0.34285714 0.         0.64285714 0.56410256 0.\n",
      " 0.125      0.22580645 0.40816327 0.10344828 0.34285714 0.\n",
      " 0.04878049 0.40506329 0.         0.         0.10344828 0.\n",
      " 0.22580645 0.         0.         0.         0.19354839 0.\n",
      " 0.4        0.         0.03571429 0.         0.23404255 0.\n",
      " 0.04878049 0.23404255]\n",
      "cv: 12/20, acc.: 60.0\n",
      "\n"
     ]
    },
    {
     "name": "stderr",
     "output_type": "stream",
     "text": [
      "c:\\users\\shear\\.conda\\envs\\torch1.2\\lib\\site-packages\\scipy\\stats\\_distn_infrastructure.py:901: RuntimeWarning: invalid value encountered in greater\n",
      "  return (a < x) & (x < b)\n",
      "c:\\users\\shear\\.conda\\envs\\torch1.2\\lib\\site-packages\\scipy\\stats\\_distn_infrastructure.py:901: RuntimeWarning: invalid value encountered in less\n",
      "  return (a < x) & (x < b)\n",
      "c:\\users\\shear\\.conda\\envs\\torch1.2\\lib\\site-packages\\scipy\\stats\\_distn_infrastructure.py:1892: RuntimeWarning: invalid value encountered in less_equal\n",
      "  cond2 = cond0 & (x <= _a)\n",
      "c:\\users\\shear\\.conda\\envs\\torch1.2\\lib\\site-packages\\ipykernel_launcher.py:19: RuntimeWarning: invalid value encountered in less_equal\n",
      "c:\\users\\shear\\.conda\\envs\\torch1.2\\lib\\site-packages\\ipykernel_launcher.py:20: RuntimeWarning: invalid value encountered in less_equal\n"
     ]
    },
    {
     "name": "stdout",
     "output_type": "stream",
     "text": [
      "(98, 62) (98,)\n",
      "[ 15.   0.   0.   0.   0.   0.   0.   0.  15.   0.   0.   0.  24.   0.\n",
      "   0.  42.  24.  42.   2.   0.  34.   3.   0.  37.   0. 157.   8.   0.\n",
      " 157.  49.   0.   0.   8.  37.   8.  35.  19.  35.   0.  19.   6.  34.\n",
      "   1.  49.   2.   8.   0.   1.   0.   0.   0.   0.   3.   0.   0.   0.\n",
      "   0.   0.   0.   6.   0.   0.]\n",
      "[0.17241379 0.         0.         0.         0.         0.\n",
      " 0.         0.         0.17241379 0.         0.         0.\n",
      " 0.15789474 0.         0.         0.3255814  0.15789474 0.3255814\n",
      " 0.02352941 0.         0.43037975 0.6        0.         0.68518519\n",
      " 0.         0.80512821 0.22857143 0.         0.80512821 0.4537037\n",
      " 0.         0.         0.25806452 0.68518519 0.22857143 0.27559055\n",
      " 0.1484375  0.27559055 0.         0.1484375  0.07317073 0.43037975\n",
      " 0.25       0.4537037  0.02352941 0.25806452 0.         0.25\n",
      " 0.         0.         0.         0.         0.6        0.\n",
      " 0.         0.         0.         0.         0.         0.07317073\n",
      " 0.         0.        ]\n",
      "cv: 13/20, acc.: 40.0\n",
      "\n"
     ]
    },
    {
     "name": "stderr",
     "output_type": "stream",
     "text": [
      "c:\\users\\shear\\.conda\\envs\\torch1.2\\lib\\site-packages\\scipy\\stats\\_distn_infrastructure.py:901: RuntimeWarning: invalid value encountered in greater\n",
      "  return (a < x) & (x < b)\n",
      "c:\\users\\shear\\.conda\\envs\\torch1.2\\lib\\site-packages\\scipy\\stats\\_distn_infrastructure.py:901: RuntimeWarning: invalid value encountered in less\n",
      "  return (a < x) & (x < b)\n",
      "c:\\users\\shear\\.conda\\envs\\torch1.2\\lib\\site-packages\\scipy\\stats\\_distn_infrastructure.py:1892: RuntimeWarning: invalid value encountered in less_equal\n",
      "  cond2 = cond0 & (x <= _a)\n",
      "c:\\users\\shear\\.conda\\envs\\torch1.2\\lib\\site-packages\\ipykernel_launcher.py:19: RuntimeWarning: invalid value encountered in less_equal\n",
      "c:\\users\\shear\\.conda\\envs\\torch1.2\\lib\\site-packages\\ipykernel_launcher.py:20: RuntimeWarning: invalid value encountered in less_equal\n"
     ]
    },
    {
     "name": "stdout",
     "output_type": "stream",
     "text": [
      "(98, 48) (98,)\n",
      "[  0.   0.   0.   0.  13.   0.   0.  31.  13.  31.  15.   9.   3.   2.\n",
      "   0.   0.  20. 110.  12.   0.   9.   0. 110.   0.   3.   7.  20.   3.\n",
      "  12.   0.   4.   0.   0.   0.   3.   0.  15.   7.   0.   0.   0.   0.\n",
      "   2.   4.   0.   0.   4.   4.]\n",
      "[0.         0.         0.         0.         0.08552632 0.\n",
      " 0.         0.24031008 0.08552632 0.24031008 0.17647059 0.64285714\n",
      " 0.125      0.4        0.         0.         0.37037037 0.56410256\n",
      " 0.34285714 0.         0.64285714 0.         0.56410256 0.\n",
      " 0.125      0.22580645 0.37037037 0.10344828 0.34285714 0.\n",
      " 0.04878049 0.         0.         0.         0.10344828 0.\n",
      " 0.17647059 0.22580645 0.         0.         0.         0.\n",
      " 0.4        0.17391304 0.         0.         0.04878049 0.17391304]\n",
      "cv: 14/20, acc.: 80.0\n",
      "\n"
     ]
    },
    {
     "name": "stderr",
     "output_type": "stream",
     "text": [
      "c:\\users\\shear\\.conda\\envs\\torch1.2\\lib\\site-packages\\scipy\\stats\\_distn_infrastructure.py:901: RuntimeWarning: invalid value encountered in greater\n",
      "  return (a < x) & (x < b)\n",
      "c:\\users\\shear\\.conda\\envs\\torch1.2\\lib\\site-packages\\scipy\\stats\\_distn_infrastructure.py:901: RuntimeWarning: invalid value encountered in less\n",
      "  return (a < x) & (x < b)\n",
      "c:\\users\\shear\\.conda\\envs\\torch1.2\\lib\\site-packages\\scipy\\stats\\_distn_infrastructure.py:1892: RuntimeWarning: invalid value encountered in less_equal\n",
      "  cond2 = cond0 & (x <= _a)\n",
      "c:\\users\\shear\\.conda\\envs\\torch1.2\\lib\\site-packages\\ipykernel_launcher.py:19: RuntimeWarning: invalid value encountered in less_equal\n",
      "c:\\users\\shear\\.conda\\envs\\torch1.2\\lib\\site-packages\\ipykernel_launcher.py:20: RuntimeWarning: invalid value encountered in less_equal\n"
     ]
    },
    {
     "name": "stdout",
     "output_type": "stream",
     "text": [
      "(98, 52) (98,)\n",
      "[  0.   5.   0.   0.   5.   0.   0.   0.  13.   0.   0.   1.  31.  13.\n",
      "  31.   9.   0.   3.   0.   2.   0.  20. 110.  12.   0.   0.   0.   9.\n",
      " 110.   0.   3.   7.  20.   3.  12.  32.   0.  32.   4.   0.   0.   3.\n",
      "   0.   7.   0.   0.   0.   2.   1.   0.   0.   4.]\n",
      "[0.         0.5        0.         0.         0.5        0.\n",
      " 0.         0.         0.08552632 0.         0.         0.03571429\n",
      " 0.24031008 0.08552632 0.24031008 0.64285714 0.         0.125\n",
      " 0.         0.4        0.         0.37037037 0.56410256 0.34285714\n",
      " 0.         0.         0.         0.64285714 0.56410256 0.\n",
      " 0.125      0.22580645 0.37037037 0.10344828 0.34285714 0.25\n",
      " 0.         0.25       0.04878049 0.         0.         0.10344828\n",
      " 0.         0.22580645 0.         0.         0.         0.4\n",
      " 0.03571429 0.         0.         0.04878049]\n",
      "cv: 15/20, acc.: 60.0\n",
      "\n"
     ]
    },
    {
     "name": "stderr",
     "output_type": "stream",
     "text": [
      "c:\\users\\shear\\.conda\\envs\\torch1.2\\lib\\site-packages\\scipy\\stats\\_distn_infrastructure.py:901: RuntimeWarning: invalid value encountered in greater\n",
      "  return (a < x) & (x < b)\n",
      "c:\\users\\shear\\.conda\\envs\\torch1.2\\lib\\site-packages\\scipy\\stats\\_distn_infrastructure.py:901: RuntimeWarning: invalid value encountered in less\n",
      "  return (a < x) & (x < b)\n",
      "c:\\users\\shear\\.conda\\envs\\torch1.2\\lib\\site-packages\\scipy\\stats\\_distn_infrastructure.py:1892: RuntimeWarning: invalid value encountered in less_equal\n",
      "  cond2 = cond0 & (x <= _a)\n",
      "c:\\users\\shear\\.conda\\envs\\torch1.2\\lib\\site-packages\\ipykernel_launcher.py:19: RuntimeWarning: invalid value encountered in less_equal\n",
      "c:\\users\\shear\\.conda\\envs\\torch1.2\\lib\\site-packages\\ipykernel_launcher.py:20: RuntimeWarning: invalid value encountered in less_equal\n"
     ]
    },
    {
     "name": "stdout",
     "output_type": "stream",
     "text": [
      "(98, 58) (98,)\n",
      "[ 50.   0.   0.   5.  33.   0.   5.  33.  50.   0.   0.   0.  13.   0.\n",
      "   0.   1.  31.  13.  31.   3.  24.  24.   2.   0.  20. 110.  68.  12.\n",
      "   0. 110.   0.   3. 107.  68.   7.  20.  12.  54.  32.  54.   0.  32.\n",
      "   4.   0.   0.   0.   7.   0.   0.   2.   4.   0.   1.   0.   0.   4.\n",
      "   4. 107.]\n",
      "[0.57471264 0.         0.         0.5        0.57894737 0.\n",
      " 0.5        0.57894737 0.57471264 0.         0.         0.\n",
      " 0.08552632 0.         0.         0.03571429 0.24031008 0.08552632\n",
      " 0.24031008 0.125      0.40677966 0.40677966 0.4        0.\n",
      " 0.37037037 0.56410256 0.5862069  0.34285714 0.         0.56410256\n",
      " 0.         0.125      0.92241379 0.5862069  0.22580645 0.37037037\n",
      " 0.34285714 0.42519685 0.25       0.42519685 0.         0.25\n",
      " 0.04878049 0.         0.         0.         0.22580645 0.\n",
      " 0.         0.4        0.17391304 0.         0.03571429 0.\n",
      " 0.         0.04878049 0.17391304 0.92241379]\n",
      "cv: 16/20, acc.: 20.0\n",
      "\n"
     ]
    },
    {
     "name": "stderr",
     "output_type": "stream",
     "text": [
      "c:\\users\\shear\\.conda\\envs\\torch1.2\\lib\\site-packages\\scipy\\stats\\_distn_infrastructure.py:901: RuntimeWarning: invalid value encountered in greater\n",
      "  return (a < x) & (x < b)\n",
      "c:\\users\\shear\\.conda\\envs\\torch1.2\\lib\\site-packages\\scipy\\stats\\_distn_infrastructure.py:901: RuntimeWarning: invalid value encountered in less\n",
      "  return (a < x) & (x < b)\n",
      "c:\\users\\shear\\.conda\\envs\\torch1.2\\lib\\site-packages\\scipy\\stats\\_distn_infrastructure.py:1892: RuntimeWarning: invalid value encountered in less_equal\n",
      "  cond2 = cond0 & (x <= _a)\n",
      "c:\\users\\shear\\.conda\\envs\\torch1.2\\lib\\site-packages\\ipykernel_launcher.py:19: RuntimeWarning: invalid value encountered in less_equal\n",
      "c:\\users\\shear\\.conda\\envs\\torch1.2\\lib\\site-packages\\ipykernel_launcher.py:20: RuntimeWarning: invalid value encountered in less_equal\n"
     ]
    },
    {
     "name": "stdout",
     "output_type": "stream",
     "text": [
      "(98, 58) (98,)\n",
      "[ 50.   0.   0.   5.   0.   0.   5.  50.   0.   0.   0.  13.   0.   0.\n",
      "  31.  13.  31.  15.   9.   0.   3.   0.  11.   2.   0. 110.  12.   0.\n",
      "   9. 110.   3. 107.   7.   0.   3.  12.  32.   0.  32.   4.   0.   0.\n",
      "   0.   3.   0.  15.   7.   0.   0.   0.   2.   0.   0.   0.   0.  11.\n",
      "   4. 107.]\n",
      "[0.57471264 0.         0.         0.5        0.         0.\n",
      " 0.5        0.57471264 0.         0.         0.         0.08552632\n",
      " 0.         0.         0.24031008 0.08552632 0.24031008 0.17647059\n",
      " 0.64285714 0.         0.125      0.         0.35483871 0.4\n",
      " 0.         0.61452514 0.34285714 0.         0.64285714 0.61452514\n",
      " 0.125      0.92241379 0.22580645 0.         0.10344828 0.34285714\n",
      " 0.25       0.         0.25       0.04878049 0.         0.\n",
      " 0.         0.10344828 0.         0.17647059 0.22580645 0.\n",
      " 0.         0.         0.4        0.         0.         0.\n",
      " 0.         0.35483871 0.04878049 0.92241379]\n",
      "cv: 17/20, acc.: 60.0\n",
      "\n"
     ]
    },
    {
     "name": "stderr",
     "output_type": "stream",
     "text": [
      "c:\\users\\shear\\.conda\\envs\\torch1.2\\lib\\site-packages\\scipy\\stats\\_distn_infrastructure.py:901: RuntimeWarning: invalid value encountered in greater\n",
      "  return (a < x) & (x < b)\n",
      "c:\\users\\shear\\.conda\\envs\\torch1.2\\lib\\site-packages\\scipy\\stats\\_distn_infrastructure.py:901: RuntimeWarning: invalid value encountered in less\n",
      "  return (a < x) & (x < b)\n",
      "c:\\users\\shear\\.conda\\envs\\torch1.2\\lib\\site-packages\\scipy\\stats\\_distn_infrastructure.py:1892: RuntimeWarning: invalid value encountered in less_equal\n",
      "  cond2 = cond0 & (x <= _a)\n",
      "c:\\users\\shear\\.conda\\envs\\torch1.2\\lib\\site-packages\\ipykernel_launcher.py:19: RuntimeWarning: invalid value encountered in less_equal\n",
      "c:\\users\\shear\\.conda\\envs\\torch1.2\\lib\\site-packages\\ipykernel_launcher.py:20: RuntimeWarning: invalid value encountered in less_equal\n"
     ]
    },
    {
     "name": "stdout",
     "output_type": "stream",
     "text": [
      "(98, 58) (98,)\n",
      "[  0.   5.   0.   0.   5.   0.   0.   0.  13.   0.   0.   1.  31.  13.\n",
      "  31.   4.  15.   4.   9.   3.   2.   0.  20. 110.  12.   0.   9. 110.\n",
      "   0.   0.   3. 107.   7.  20.   3.  12.  12.   4.  12.   0.   0.   3.\n",
      "   0.  15.   7.   0.   0.   0.   0.   2.   1.   0.  11.   0.   4.  11.\n",
      " 107.   0.]\n",
      "[0.         0.5        0.         0.         0.5        0.\n",
      " 0.         0.         0.08552632 0.         0.         0.03571429\n",
      " 0.24031008 0.08552632 0.24031008 0.09090909 0.17647059 0.09090909\n",
      " 0.64285714 0.125      0.4        0.         0.37037037 0.56410256\n",
      " 0.34285714 0.         0.64285714 0.56410256 0.         0.\n",
      " 0.125      0.92241379 0.22580645 0.37037037 0.10344828 0.34285714\n",
      " 0.17647059 0.04878049 0.17647059 0.         0.         0.10344828\n",
      " 0.         0.17647059 0.22580645 0.         0.         0.\n",
      " 0.         0.4        0.03571429 0.         0.23404255 0.\n",
      " 0.04878049 0.23404255 0.92241379 0.        ]\n",
      "cv: 18/20, acc.: 50.0\n",
      "\n"
     ]
    },
    {
     "name": "stderr",
     "output_type": "stream",
     "text": [
      "c:\\users\\shear\\.conda\\envs\\torch1.2\\lib\\site-packages\\scipy\\stats\\_distn_infrastructure.py:901: RuntimeWarning: invalid value encountered in greater\n",
      "  return (a < x) & (x < b)\n",
      "c:\\users\\shear\\.conda\\envs\\torch1.2\\lib\\site-packages\\scipy\\stats\\_distn_infrastructure.py:901: RuntimeWarning: invalid value encountered in less\n",
      "  return (a < x) & (x < b)\n",
      "c:\\users\\shear\\.conda\\envs\\torch1.2\\lib\\site-packages\\scipy\\stats\\_distn_infrastructure.py:1892: RuntimeWarning: invalid value encountered in less_equal\n",
      "  cond2 = cond0 & (x <= _a)\n",
      "c:\\users\\shear\\.conda\\envs\\torch1.2\\lib\\site-packages\\ipykernel_launcher.py:19: RuntimeWarning: invalid value encountered in less_equal\n",
      "c:\\users\\shear\\.conda\\envs\\torch1.2\\lib\\site-packages\\ipykernel_launcher.py:20: RuntimeWarning: invalid value encountered in less_equal\n"
     ]
    },
    {
     "name": "stdout",
     "output_type": "stream",
     "text": [
      "(98, 48) (98,)\n",
      "[ 50.   0.   5.   0.   5.  50.   0.   0.   0.  13.   0.   0.   1.  31.\n",
      "  13.  31.   3.   2.   0.  20. 110.  12.   0. 110.   0.   3.   7.  20.\n",
      "   3.  12.  40.   0.   4.   0.  40.   0.   0.   3.   0.   7.   0.   0.\n",
      "   0.   2.   1.   0.   0.   4.]\n",
      "[0.57471264 0.         0.5        0.         0.5        0.57471264\n",
      " 0.         0.         0.         0.08552632 0.         0.\n",
      " 0.03571429 0.24031008 0.08552632 0.24031008 0.125      0.4\n",
      " 0.         0.37037037 0.56410256 0.34285714 0.         0.56410256\n",
      " 0.         0.125      0.22580645 0.37037037 0.10344828 0.34285714\n",
      " 0.25477707 0.         0.04878049 0.         0.25477707 0.\n",
      " 0.         0.10344828 0.         0.22580645 0.         0.\n",
      " 0.         0.4        0.03571429 0.         0.         0.04878049]\n",
      "cv: 19/20, acc.: 50.0\n",
      "\n",
      "total acc.: 57.0\n",
      "\n"
     ]
    }
   ],
   "source": [
    "from sklearn.svm import SVC, LinearSVC\n",
    "from sklearn.model_selection import KFold\n",
    "from sklearn.preprocessing import MaxAbsScaler\n",
    "from sklearn.linear_model import LogisticRegression\n",
    "from sklearn.decomposition import PCA\n",
    "from sklearn.model_selection import GridSearchCV\n",
    "\n",
    "seed = 1\n",
    "cv = 20\n",
    "kf = KFold(n_splits=cv, shuffle=True, random_state=seed)\n",
    "acc_sum = 0\n",
    "ttest_feature = []\n",
    "for idx, (train_idx, test_idx) in enumerate(kf.split(dataset)):\n",
    "    x0 = x[train_idx][y[train_idx] == 0]\n",
    "    x1 = x[train_idx][y[train_idx] == 1]\n",
    "#     x0 = x[y == 0]\n",
    "#     x1 = x[y == 1]\n",
    "    t_value, p_value = scipy.stats.ttest_ind(x0, x1, axis=0, equal_var=False, nan_policy='omit')\n",
    "    x_t = x[:, p_value <=0.03]\n",
    "    ttest_feature.append(np.where(p_value <=0.03))\n",
    "    print(x_t.shape, y.shape)\n",
    "\n",
    "    ynew_train = y[train_idx]\n",
    "    ynew_test = y[test_idx]\n",
    "\n",
    "    # Norm\n",
    "    scaler = MaxAbsScaler()\n",
    "    scaler.fit(x_t[train_idx])\n",
    "    xnew_train = scaler.transform(x_t[train_idx])\n",
    "    xnew_test = scaler.transform(x_t[test_idx])\n",
    "    print(x_t[train_idx][0])\n",
    "    print(xnew_train[0])\n",
    "\n",
    "    # SVC\n",
    "    svc = SVC(kernel='rbf', random_state=1, gamma=0.01, C=10)\n",
    "    model = svc.fit(xnew_train, ynew_train)\n",
    "\n",
    "    predict = model.predict(xnew_test)\n",
    "    correct = np.sum(predict == ynew_test)\n",
    "    accuracy = correct / test_idx.size\n",
    "    print(\"cv: {}/{}, acc.: {:.1f}\\n\".format(idx, cv, accuracy*100))\n",
    "    acc_sum += accuracy\n",
    "print(\"total acc.: {:.1f}\\n\".format(acc_sum / cv * 100))"
   ]
  },
  {
   "cell_type": "markdown",
   "metadata": {},
   "source": [
    "8个假阳，2个假阴  \n",
    "全体样本t检验  \n",
    "[  10,   74,  185,  187,  188,  226,  246,  279,  294,  452,  632,\n",
    "        722,  813,  900,  980, 1008, 1047, 1215, 1241, 1302, 1631, 1823,\n",
    "       1929, 2011, 2050, 2090, 2163, 2667, 2691, 2732, 2812, 2910, 2947,\n",
    "       3105, 3286, 3369, 3506, 3531, 3547, 3565, 3599, 3672, 3794, 3825,\n",
    "       3828, 3915, 3919, 4063, 4084, 4092, 4093, 4116, 4142, 4176, 4228,\n",
    "       4297, 4362, 4386, 4453, 4552, 4673, 4730, 4946, 4989, 5141, 5159,\n",
    "       5308, 5379, 5917, 5942, 5985, 5988, 6021, 6062, 6077, 6095, 6115,\n",
    "       6269, 6281, 6322, 6403, 6459, 6520, 6657, 6660, 6837, 6924, 7191,\n",
    "       7210, 7319, 7356, 7369, 7466, 7521, 7636, 7717, 7778, 7794, 7822,\n",
    "       7903, 7905, 7966, 7978, 8049]"
   ]
  },
  {
   "cell_type": "code",
   "execution_count": 92,
   "metadata": {},
   "outputs": [
    {
     "data": {
      "text/plain": [
       "(array([  10,   74,  185,  187,  452,  632,  900, 1215, 1241, 1302, 2011,\n",
       "        2050, 2667, 2691, 2732, 2812, 2910, 2947, 3105, 3286, 3672, 3794,\n",
       "        3825, 3828, 3915, 3919, 4063, 4084, 4092, 4093, 4116, 4176, 4228,\n",
       "        4297, 4362, 4386, 4453, 4552, 4673, 4730, 4946, 5159, 5379, 5985,\n",
       "        5988, 6021, 6062, 6077, 6269, 6281, 6322, 6403, 6459, 6520, 6657,\n",
       "        6660, 7319, 7356, 7521, 7794, 7903, 7966], dtype=int64),)"
      ]
     },
     "execution_count": 92,
     "metadata": {},
     "output_type": "execute_result"
    }
   ],
   "source": [
    "tt_count = np.zeros(8100)\n",
    "for feature_idx in ttest_feature:\n",
    "    for idx in feature_idx:\n",
    "        tt_count[idx] += 1\n",
    "np.where(tt_count>5)"
   ]
  }
 ],
 "metadata": {
  "kernelspec": {
   "display_name": "Python 3",
   "language": "python",
   "name": "python3"
  },
  "language_info": {
   "codemirror_mode": {
    "name": "ipython",
    "version": 3
   },
   "file_extension": ".py",
   "mimetype": "text/x-python",
   "name": "python",
   "nbconvert_exporter": "python",
   "pygments_lexer": "ipython3",
   "version": "3.7.0"
  }
 },
 "nbformat": 4,
 "nbformat_minor": 2
}
